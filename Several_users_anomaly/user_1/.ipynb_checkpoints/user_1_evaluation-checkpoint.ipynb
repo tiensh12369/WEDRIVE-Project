{
 "cells": [
  {
   "cell_type": "code",
   "execution_count": 1,
   "id": "0e6c84b1",
   "metadata": {},
   "outputs": [
    {
     "name": "stdout",
     "output_type": "stream",
     "text": [
      "Label: UJCBD is not in label_frequencies.csv\n",
      "Label: UJCD is not in label_frequencies.csv\n",
      "Label: UJCCDBD is not in label_frequencies.csv\n",
      "Davies-Bouldin Index: 0.6140119178475365\n",
      "Silhouette Score: 0.6291499181105898\n"
     ]
    }
   ],
   "source": [
    "import os\n",
    "import ast\n",
    "import numpy as np\n",
    "import pandas as pd\n",
    "\n",
    "from scipy.stats import iqr\n",
    "from sklearn.metrics import silhouette_score\n",
    "from sklearn.metrics import davies_bouldin_score\n",
    "\n",
    "# Paths of all the datasets\n",
    "labeled_data_path = os.getcwd()+'\\\\Label'\n",
    "test_dataset_path = os.getcwd()+'\\\\Test'\n",
    "test_evaluation_file = os.getcwd()+'\\\\evaluation.csv'\n",
    "\n",
    "# Create a new list with non-consecutive duplicates removed\n",
    "def CollapseRecurringLabels(original_list):\n",
    "\n",
    "    # Initialize the result list with the first element of the original list\n",
    "    result_list = [original_list[0]]  \n",
    "\n",
    "    for i in range(1, len(original_list)):\n",
    "        if original_list[i] != original_list[i - 1]:\n",
    "            result_list.append(original_list[i])\n",
    "\n",
    "    return result_list\n",
    "\n",
    "def compute_threshold(frequencies):\n",
    "    data = frequencies\n",
    "    median_value = np.median(data)\n",
    "    iqr_value = iqr(data)\n",
    "    k = 2\n",
    "\n",
    "    threshold = median_value + k * iqr_value\n",
    "\n",
    "    return threshold\n",
    "\n",
    "def find_label_for_point(lat, lng, grid_info):\n",
    "    for index, row in grid_info.iterrows():\n",
    "        # Convert string representations to tuples\n",
    "        min_lat, min_lng = ast.literal_eval(row['Min Latitude, Min Longitude'])\n",
    "        max_lat, max_lng = ast.literal_eval(row['Max Latitude, Max Longitude'])\n",
    "\n",
    "        if min_lat <= lat <= max_lat and min_lng <= lng <= max_lng:\n",
    "            return row['Grid Name']\n",
    "\n",
    "    return None\n",
    "\n",
    "# Step 1: Load Data and Collapse Recursive Data\n",
    "frequency_dict = {}\n",
    "\n",
    "for file_name in os.listdir(labeled_data_path):\n",
    "    if file_name.endswith('.csv'):\n",
    "        file_path = os.path.join(labeled_data_path, file_name)\n",
    "        df = pd.read_csv(file_path)\n",
    "\n",
    "        # Collapse recursive data in 'grid_label' column\n",
    "        labels = df['grid_label'].tolist()\n",
    "        unique_labels = CollapseRecurringLabels(labels)\n",
    "        df_ = pd.DataFrame(unique_labels, columns=['grid_label'])\n",
    "\n",
    "        # Step 2: Compute Frequency of Each Label\n",
    "        label_counts = df_['grid_label'].value_counts().to_dict()\n",
    "\n",
    "        # Step 3: Update Frequency Dictionary\n",
    "        for label, count in label_counts.items():\n",
    "            frequency_dict[label] = frequency_dict.get(label, 0) + count\n",
    "\n",
    "# Check if the file exists\n",
    "if os.path.isfile(test_evaluation_file):\n",
    "    # Read the CSV file into a DataFrame\n",
    "    evaluation_df = pd.read_csv(test_evaluation_file)\n",
    "else:\n",
    "    # Create an empty DataFrame\n",
    "    evaluation_df = pd.DataFrame(columns=['label', 'F1', 'S1', 'S2', 'lF', 'PF'])\n",
    "    evaluation_df.to_csv(test_evaluation_file, index=False)\n",
    "\n",
    "# Save Frequency Dictionary to CSV\n",
    "frequency_df = pd.DataFrame(list(frequency_dict.items()), columns=['Label', 'Frequency'])\n",
    "frequency_df.to_csv('label_frequencies.csv', index=False)\n",
    "\n",
    "# Compute the threshold based on Frequency Dictionary\n",
    "labels = frequency_df['Frequency'].tolist()\n",
    "threshold = 3 #compute_threshold(labels)\n",
    "\n",
    "# Load the grid information from the CSV file\n",
    "grid_info_file = 'grid_information_with_paths.csv'\n",
    "grid_info = pd.read_csv(grid_info_file)\n",
    "\n",
    "latitudes = list()\n",
    "longitudes = list()\n",
    "anomalies = list()\n",
    "\n",
    "# Read the test CSV file\n",
    "for filename in os.listdir(test_dataset_path):\n",
    "    if filename.endswith('.csv'):\n",
    "        csv_file_path = os.path.join(test_dataset_path, filename)\n",
    "        df = pd.read_csv(csv_file_path)\n",
    "        previous_label = \"\"\n",
    "\n",
    "        # Iterate over rows in a streaming way\n",
    "        for index, row in df.iterrows():\n",
    "            # Process the current row\n",
    "            lat = row['lat']\n",
    "            lng = row['lng']\n",
    "\n",
    "            label = find_label_for_point(lat, lng, grid_info)\n",
    "\n",
    "            # Check if the label exists in label_frequencies.csv\n",
    "            if label == previous_label:\n",
    "                pass\n",
    "            else:\n",
    "                previous_label = label\n",
    "\n",
    "                latitudes.append(lat)\n",
    "                longitudes.append(lng)\n",
    "\n",
    "                if pd.notna(label):\n",
    "                    if label in frequency_df['Label'].values:\n",
    "                        # Get the corresponding frequency\n",
    "                        frequency = frequency_df.loc[frequency_df['Label'] == label, 'Frequency'].values[0]\n",
    "\n",
    "                        # Compare with the threshold\n",
    "                        if frequency >= threshold:\n",
    "                            Anomaly_type = \"N\"\n",
    "                            anomalies.append(0)\n",
    "                        else:\n",
    "                            print(f\"Label: {label} does not meet the frequency threshold (Frequency: {frequency})\")\n",
    "                            Anomaly_type = \"AN\"\n",
    "                            anomalies.append(1)\n",
    "                    else:\n",
    "                        print(f\"Label: {label} is not in label_frequencies.csv\")\n",
    "                        frequency = 0\n",
    "                        Anomaly_type = \"AN\"\n",
    "                        anomalies.append(1)\n",
    "                else:\n",
    "                    print(f'The point ({lat}, {lng}) is not in any grid.')\n",
    "                    frequency = 0\n",
    "                    Anomaly_type = \"AN\"\n",
    "                    anomalies.append(1)\n",
    "\n",
    "                current_data = pd.DataFrame({'label': [label], 'F1': [Anomaly_type], 'lF': [frequency]})\n",
    "                evaluation_df = pd.concat([evaluation_df, current_data], ignore_index=True)\n",
    "\n",
    "coordinates = list(zip(latitudes, longitudes))\n",
    "\n",
    "# Calculating the Davies-Bouldin Index\n",
    "db_index = davies_bouldin_score(coordinates, anomalies)\n",
    "print(f\"Davies-Bouldin Index: {db_index}\")\n",
    "# Calculating the silhouette score\n",
    "silhouette_avg = silhouette_score(coordinates, anomalies)\n",
    "print(f\"Silhouette Score: {silhouette_avg}\")\n",
    "\n",
    "\n",
    "#evaluation_df.to_csv(test_evaluation_file, index=False)"
   ]
  },
  {
   "cell_type": "code",
   "execution_count": 36,
   "id": "0939d1ee",
   "metadata": {},
   "outputs": [
    {
     "data": {
      "image/png": "[encoded data removed]",
      "text/plain": [
       "<Figure size 800x600 with 1 Axes>"
      ]
     },
     "metadata": {},
     "output_type": "display_data"
    }
   ],
   "source": [
    "import matplotlib.pyplot as plt\n",
    "from sklearn.datasets import make_blobs\n",
    "from sklearn.cluster import KMeans\n",
    "\n",
    "# Generate a synthetic dataset with three clusters\n",
    "X = coordinates\n",
    "\n",
    "# Applying KMeans clustering with 3 clusters (assumes knowledge of the true number of clusters)\n",
    "labels = anomalies\n",
    "\n",
    "# Plotting the clusters\n",
    "plt.figure(figsize=(8, 6))\n",
    "\n",
    "# Scatter plot for each cluster\n",
    "for cluster_label in range(2):\n",
    "    cluster_points = X[labels == cluster_label]\n",
    "    plt.scatter(np.array([lat for lat, _ in X]), np.array([lng for _, lng in X]), label=f'Cluster {cluster_label}')\n",
    "\n",
    "C_0 = list()\n",
    "C_1 = list()\n",
    "for i in range(len(labels)):\n",
    "    if labels[i] == 0:\n",
    "        C_0.append(X[i])\n",
    "    else:\n",
    "        C_1.append(X[i])\n",
    "# Plotting cluster centers\n",
    "#plt.scatter(kmeans.cluster_centers_[:, 0], kmeans.cluster_centers_[:, 1], s=200, marker='X', c='black', label='Cluster Centers')\n",
    "\n",
    "plt.title('Scatter Plot of Clusters')\n",
    "plt.xlabel('X-axis')\n",
    "plt.ylabel('Y-axis')\n",
    "plt.legend()\n",
    "plt.show()"
   ]
  },
  {
   "cell_type": "code",
   "execution_count": 37,
   "id": "5752f270",
   "metadata": {},
   "outputs": [
    {
     "data": {
      "text/plain": [
       "(37.466562, 126.885423)"
      ]
     },
     "execution_count": 37,
     "metadata": {},
     "output_type": "execute_result"
    }
   ],
   "source": [
    "cluster_points"
   ]
  },
  {
   "cell_type": "code",
   "execution_count": 38,
   "id": "dd446096",
   "metadata": {},
   "outputs": [
    {
     "data": {
      "text/plain": [
       "array([126.885423, 126.895301, 126.84611 , 126.83645 , 126.826855,\n",
       "       126.822983, 126.821845, 126.817252, 126.816313, 126.815441])"
      ]
     },
     "execution_count": 38,
     "metadata": {},
     "output_type": "execute_result"
    }
   ],
   "source": [
    "np.array([_ for lat, _ in X])"
   ]
  },
  {
   "cell_type": "code",
   "execution_count": 39,
   "id": "863134d4",
   "metadata": {},
   "outputs": [
    {
     "data": {
      "text/plain": [
       "array([37.466562, 37.451827, 37.404318, 37.404731, 37.405333, 37.409867,\n",
       "       37.409805, 37.408615, 37.409862, 37.409828])"
      ]
     },
     "execution_count": 39,
     "metadata": {},
     "output_type": "execute_result"
    }
   ],
   "source": [
    "np.array([lat for lat, _ in X])"
   ]
  },
  {
   "cell_type": "code",
   "execution_count": 40,
   "id": "16a01216",
   "metadata": {},
   "outputs": [
    {
     "data": {
      "text/plain": [
       "[1, 1, 1, 0, 0, 0, 0, 0, 0, 0]"
      ]
     },
     "execution_count": 40,
     "metadata": {},
     "output_type": "execute_result"
    }
   ],
   "source": [
    "labels"
   ]
  },
  {
   "cell_type": "code",
   "execution_count": 41,
   "id": "cc318eb7",
   "metadata": {},
   "outputs": [],
   "source": [
    "mean_latitude = sum(lat for lat, lon in C_0) / len(C_0)\n",
    "mean_longitude = sum(lon for lat, lon in C_0) / len(C_0)\n",
    "\n",
    "# Center point (centroid)\n",
    "centroid = (mean_latitude, mean_longitude)"
   ]
  },
  {
   "cell_type": "code",
   "execution_count": 42,
   "id": "b763f10a",
   "metadata": {},
   "outputs": [],
   "source": [
    "mean_latitude1 = sum(lat for lat, lon in C_1) / len(C_1)\n",
    "mean_longitude1 = sum(lon for lat, lon in C_1) / len(C_1)\n",
    "\n",
    "# Center point (centroid)\n",
    "centroid1 = (mean_latitude1, mean_longitude1)"
   ]
  },
  {
   "cell_type": "code",
   "execution_count": 44,
   "id": "226975a3",
   "metadata": {},
   "outputs": [
    {
     "data": {
      "image/png": "[encoded data removed]",
      "text/plain": [
       "<Figure size 800x600 with 1 Axes>"
      ]
     },
     "metadata": {},
     "output_type": "display_data"
    }
   ],
   "source": [
    "# Plotting the clusters\n",
    "plt.figure(figsize=(8, 6))\n",
    "\n",
    "# Scatter plot for each cluster\n",
    "for cluster_label in range(2):\n",
    "    cluster_points = X[labels == cluster_label]\n",
    "    plt.scatter(np.array([lat for lat, _ in X]), np.array([lng for _, lng in X]), label=f'Cluster {cluster_label}')\n",
    "\n",
    "# Plotting cluster centers\n",
    "plt.scatter(centroid1,centroid, s=200, marker='X', c='black', label='Cluster Centers')\n",
    "\n",
    "plt.title('Scatter Plot of Clusters')\n",
    "plt.xlabel('X-axis')\n",
    "plt.ylabel('Y-axis')\n",
    "plt.legend()\n",
    "plt.show()"
   ]
  },
  {
   "cell_type": "code",
   "execution_count": null,
   "id": "c0558a20",
   "metadata": {},
   "outputs": [],
   "source": []
  },
  {
   "cell_type": "code",
   "execution_count": null,
   "id": "768761e0",
   "metadata": {},
   "outputs": [],
   "source": []
  }
 ],
 "metadata": {
  "kernelspec": {
   "display_name": "Python 3 (ipykernel)",
   "language": "python",
   "name": "python3"
  },
  "language_info": {
   "codemirror_mode": {
    "name": "ipython",
    "version": 3
   },
   "file_extension": ".py",
   "mimetype": "text/x-python",
   "name": "python",
   "nbconvert_exporter": "python",
   "pygments_lexer": "ipython3",
   "version": "3.11.4"
  }
 },
 "nbformat": 4,
 "nbformat_minor": 5
}
